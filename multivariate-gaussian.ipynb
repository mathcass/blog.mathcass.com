{
 "cells": [
  {
   "cell_type": "markdown",
   "metadata": {},
   "source": [
    "# Generating Samples from a Multivariate Gaussian Distribution\n",
    "\n",
    "It's been a while since I've read through multi-variate statistics notation so when I came across this expression\n",
    "\n",
    "$$\n",
    "\\mathcal{N}((0, 1)^T, \\mathbf{I})\n",
    "$$\n",
    "\n",
    "in Chapter 2 of [Elements of Statistical Learning](https://web.stanford.edu/~hastie/ElemStatLearn/), I had to pause and dig into what the authors were trying to express.\n",
    "\n",
    "For a second, I thought that the $(0, 1)^T$ was the term that contained information on both the mean and the standard deviation of the distribution. (Namely, that the first term $0$ was the mean and the second term $1$ was the standard deviation. However, this was a mistake. It turns out that $(0, 1)^T$ is the *mean* of the distribution itself, except in two dimensions. In the two variable case, the mean is $0$ for $X_1$ whereas for $X_2$ the mean is $1$. Additionally, $\\mathbf{I}$ is the identity matrix in two dimensions, namely\n",
    "\n",
    "$$\n",
    "\\left( \\begin{array}{cc}\n",
    "1 & 0 \\\\\n",
    "0 & 1 \n",
    "\\end{array} \\right)\n",
    "$$\n",
    "\n",
    "As a refresher on this, [Michael I. Jordan](https://people.eecs.berkeley.edu/~jordan/) has a great [book chapter](https://people.eecs.berkeley.edu/~jordan/courses/260-spring10/other-readings/chapter13.pdf) on the subject.\n",
    "\n",
    "In the multivariate case, the Gaussian distribution is defined by\n",
    "\n",
    "$$\n",
    "P(x|\\mu, \\Sigma) = \\frac{1}{(2\\pi)^{n/2}\\det{\\Sigma}} \\exp{\\big\\{- \\frac{1}{2} (x - \\mu)^T \\Sigma^{-1} (x - \\mu)\\big\\} }\n",
    "$$\n",
    "\n",
    "where $\\mu$ is the multivariate mean and $\\Sigma$ is the covariance of the different variables. \n",
    "\n",
    "In Python, Scipy has [a module](https://docs.scipy.org/doc/scipy-0.14.0/reference/generated/scipy.stats.multivariate_normal.html) that makes it easier to work with multivariate Gaussian distributions. With these available tools and background, we can proceed to reproduce a dataset like the one mentioned in Chapter 2 of ESL. "
   ]
  },
  {
   "cell_type": "code",
   "execution_count": 1,
   "metadata": {},
   "outputs": [],
   "source": [
    "import random\n",
    "import numpy as np\n",
    "import matplotlib.pyplot as plt\n",
    "from scipy.stats import multivariate_normal\n",
    "\n",
    "%matplotlib inline"
   ]
  },
  {
   "cell_type": "markdown",
   "metadata": {},
   "source": [
    "The dataset was constructed by first generating a random sample of 10 points each for the *blue* and *orange* classes centered at $\\Bigl( \\begin{matrix}  1 \\\\ 0  \\end{matrix}\\Bigr)$ and $\\Bigl( \\begin{matrix}  0 \\\\ 1  \\end{matrix}\\Bigr)$ respectively."
   ]
  },
  {
   "cell_type": "code",
   "execution_count": 2,
   "metadata": {},
   "outputs": [],
   "source": [
    "blue_rv = multivariate_normal(\n",
    "    np.array([1, 0]).T, np.eye(2))\n",
    "\n",
    "orange_rv = multivariate_normal(\n",
    "    np.array([0, 1]).T, np.eye(2))"
   ]
  },
  {
   "cell_type": "code",
   "execution_count": 3,
   "metadata": {},
   "outputs": [],
   "source": [
    "blue_means = []\n",
    "orange_means = []\n",
    "\n",
    "for _ in range(10):\n",
    "    blue_means.append(blue_rv.rvs())\n",
    "    orange_means.append(orange_rv.rvs())"
   ]
  },
  {
   "cell_type": "markdown",
   "metadata": {},
   "source": [
    "Next, for 100 rounds, we pick one of the above means (call it $m$) at random (uniformly), and then generate a sample from the distribution $\\mathcal{N}(m, \\mathbf{I}/5)$"
   ]
  },
  {
   "cell_type": "code",
   "execution_count": 4,
   "metadata": {},
   "outputs": [],
   "source": [
    "# For 100 rounds, for each blue and orange, generate a random sample\n",
    "\n",
    "blue_samples = []\n",
    "orange_samples = []\n",
    "\n",
    "for _ in range(100):\n",
    "    blue_m = random.choice(blue_means)\n",
    "    orange_m = random.choice(orange_means)\n",
    "    \n",
    "    blue_samples.append(multivariate_normal(\n",
    "            blue_m.T, np.eye(2) / 5).rvs())\n",
    "    orange_samples.append(multivariate_normal(\n",
    "            orange_m.T, np.eye(2) / 5).rvs())\n",
    "    \n",
    "    \n",
    "blue_samples = np.array(blue_samples)\n",
    "orange_samples = np.array(orange_samples)"
   ]
  },
  {
   "cell_type": "markdown",
   "metadata": {},
   "source": [
    "Finally, we plot a figure with the results, which looks somewhat similar to the one presented in the textbook."
   ]
  },
  {
   "cell_type": "code",
   "execution_count": 5,
   "metadata": {},
   "outputs": [
    {
     "data": {
      "text/plain": [
       "[<matplotlib.lines.Line2D at 0x7fb8bd141278>]"
      ]
     },
     "execution_count": 5,
     "metadata": {},
     "output_type": "execute_result"
    },
    {
     "data": {
      "image/png": "[encoded data removed]",
      "text/plain": [
       "<matplotlib.figure.Figure at 0x7fb8bd135978>"
      ]
     },
     "metadata": {},
     "output_type": "display_data"
    }
   ],
   "source": [
    "fig = plt.figure(figsize=(10, 10))\n",
    "\n",
    "plt.plot(blue_samples[:, 0], blue_samples[:, 1], 'ob')\n",
    "plt.plot(orange_samples[:, 0], orange_samples[:, 1], 'o', \n",
    "         color=\"tab:orange\")"
   ]
  }
 ],
 "metadata": {
  "kernelspec": {
   "display_name": "Python 3",
   "language": "python",
   "name": "python3"
  },
  "language_info": {
   "codemirror_mode": {
    "name": "ipython",
    "version": 3
   },
   "file_extension": ".py",
   "mimetype": "text/x-python",
   "name": "python",
   "nbconvert_exporter": "python",
   "pygments_lexer": "ipython3",
   "version": "3.6.2"
  }
 },
 "nbformat": 4,
 "nbformat_minor": 2
}
